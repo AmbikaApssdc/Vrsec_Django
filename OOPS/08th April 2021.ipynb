{
 "cells": [
  {
   "cell_type": "markdown",
   "metadata": {},
   "source": [
    "- django-admin startproject projectname (Project Creation)\n",
    "- python manage.py runserver (to run the server)\n",
    "- python manage.py startapp Appname (App creation)\n",
    "- python manage.py makemigrations\n",
    "- python manage.py migrate\n",
    "- python manage.py createsuperuser \n",
    "- Inserting values to table\n",
    "    - Modelname(table).objects.create(fieldname=val)\n",
    "- Retrieving data\n",
    "    - Modelname.objects.all()\n",
    "- Update / delete\n",
    "    - Modelname.objects.get(id)"
   ]
  },
  {
   "cell_type": "markdown",
   "metadata": {},
   "source": [
    "- Create new model with\n",
    "    - stuname\n",
    "    - rollnum\n",
    "    - email\n",
    "    - mobile\n",
    "    - gender"
   ]
  },
  {
   "cell_type": "markdown",
   "metadata": {},
   "source": [
    "- Django Template Language\n",
    "    - {% block title %}{% endblock %}\n",
    "    - {% block content %} {% endblock %}\n",
    "    - {% include 'filepath' %}\n",
    "    - {% extends 'filepath' %}\n",
    "    - {% url '' %}"
   ]
  }
 ],
 "metadata": {
  "kernelspec": {
   "display_name": "Python 3",
   "language": "python",
   "name": "python3"
  },
  "language_info": {
   "codemirror_mode": {
    "name": "ipython",
    "version": 3
   },
   "file_extension": ".py",
   "mimetype": "text/x-python",
   "name": "python",
   "nbconvert_exporter": "python",
   "pygments_lexer": "ipython3",
   "version": "3.7.0"
  }
 },
 "nbformat": 4,
 "nbformat_minor": 2
}
