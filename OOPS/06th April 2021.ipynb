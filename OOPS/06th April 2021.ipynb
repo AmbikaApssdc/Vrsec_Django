{
 "cells": [
  {
   "cell_type": "markdown",
   "metadata": {},
   "source": [
    "- Todays Concepts\n",
    "    - Class\n",
    "    - Object\n",
    "    - Constructor\n",
    "    - Inheritance\n",
    "    - Packages and Modules using OOPS\n",
    "    - Django Intro\n",
    "    - Installation"
   ]
  },
  {
   "cell_type": "markdown",
   "metadata": {},
   "source": [
    "- Object Oriented Programming\n",
    "    - Code Reusability\n",
    "    - High Security\n",
    "    - In Python everything will be treated as class"
   ]
  },
  {
   "cell_type": "code",
   "execution_count": 1,
   "metadata": {},
   "outputs": [
    {
     "data": {
      "text/plain": [
       "int"
      ]
     },
     "execution_count": 1,
     "metadata": {},
     "output_type": "execute_result"
    }
   ],
   "source": [
    "a = 10\n",
    "type(a)"
   ]
  },
  {
   "cell_type": "code",
   "execution_count": 2,
   "metadata": {},
   "outputs": [
    {
     "name": "stdout",
     "output_type": "stream",
     "text": [
      "<class 'int'>\n"
     ]
    }
   ],
   "source": [
    "print(type(a))"
   ]
  },
  {
   "cell_type": "code",
   "execution_count": 4,
   "metadata": {},
   "outputs": [
    {
     "name": "stdout",
     "output_type": "stream",
     "text": [
      "['__abs__', '__add__', '__and__', '__bool__', '__ceil__', '__class__', '__delattr__', '__dir__', '__divmod__', '__doc__', '__eq__', '__float__', '__floor__', '__floordiv__', '__format__', '__ge__', '__getattribute__', '__getnewargs__', '__gt__', '__hash__', '__index__', '__init__', '__init_subclass__', '__int__', '__invert__', '__le__', '__lshift__', '__lt__', '__mod__', '__mul__', '__ne__', '__neg__', '__new__', '__or__', '__pos__', '__pow__', '__radd__', '__rand__', '__rdivmod__', '__reduce__', '__reduce_ex__', '__repr__', '__rfloordiv__', '__rlshift__', '__rmod__', '__rmul__', '__ror__', '__round__', '__rpow__', '__rrshift__', '__rshift__', '__rsub__', '__rtruediv__', '__rxor__', '__setattr__', '__sizeof__', '__str__', '__sub__', '__subclasshook__', '__truediv__', '__trunc__', '__xor__', 'bit_length', 'conjugate', 'denominator', 'from_bytes', 'imag', 'numerator', 'real', 'to_bytes']\n"
     ]
    }
   ],
   "source": [
    "print(dir(a))"
   ]
  },
  {
   "cell_type": "markdown",
   "metadata": {},
   "source": [
    "- class\n",
    "    - collection of variables and methods\n",
    "    - diff b/w method and function\n",
    "        - function defines with in class is called method\n",
    "    - syntax\n",
    "        - class ClassName:\n",
    "            '''documentation'''\n",
    "            variables/statements\n",
    "            methods\n",
    "    - Rules for classname\n",
    "        - should starts with Capital letter\n",
    "        - shouldn't start with number\n",
    "        - Allows only underscore\n",
    "        - Sholdn't allow space between classname"
   ]
  },
  {
   "cell_type": "code",
   "execution_count": 8,
   "metadata": {},
   "outputs": [
    {
     "name": "stdout",
     "output_type": "stream",
     "text": [
      "10\n",
      "Iam from display function\n",
      "None\n",
      "Basic Example\n"
     ]
    }
   ],
   "source": [
    "# Basic example\n",
    "class BExmp:\n",
    "    '''Basic Example'''\n",
    "    a = 10\n",
    "    def display():\n",
    "        print('Iam from display function')\n",
    "print(BExmp.a)\n",
    "print(BExmp.display())\n",
    "print(BExmp.__doc__)"
   ]
  },
  {
   "cell_type": "code",
   "execution_count": 9,
   "metadata": {},
   "outputs": [
    {
     "name": "stdout",
     "output_type": "stream",
     "text": [
      "10\n",
      "from display\n",
      "None\n"
     ]
    }
   ],
   "source": [
    "class BExmp1:\n",
    "    a = 10\n",
    "    def display():\n",
    "        return 'from display'\n",
    "print(BExmp1.a)\n",
    "print(BExmp1.display())\n",
    "print(BExmp1.__doc__)"
   ]
  },
  {
   "cell_type": "code",
   "execution_count": 13,
   "metadata": {},
   "outputs": [
    {
     "data": {
      "text/plain": [
       "'Hii My name is APSSDC Iam from IT'"
      ]
     },
     "execution_count": 13,
     "metadata": {},
     "output_type": "execute_result"
    }
   ],
   "source": [
    "class BasicExmp:\n",
    "    '''with more methods and parameters'''\n",
    "    s = 'python'\n",
    "    def show():\n",
    "        return 'Iam from show function'\n",
    "    def details(name,branch):\n",
    "        return 'Hii My name is ' + name +' Iam from ' + branch\n",
    "BasicExmp.s\n",
    "BasicExmp.show()\n",
    "BasicExmp.details('APSSDC','IT')"
   ]
  },
  {
   "cell_type": "markdown",
   "metadata": {},
   "source": [
    "- Object\n",
    "    - Instance of class\n",
    "    - used to access values from class\n",
    "    - objectname = classname"
   ]
  },
  {
   "cell_type": "code",
   "execution_count": 15,
   "metadata": {},
   "outputs": [
    {
     "data": {
      "text/plain": [
       "'Hii My name is Ambika Iam from IT'"
      ]
     },
     "execution_count": 15,
     "metadata": {},
     "output_type": "execute_result"
    }
   ],
   "source": [
    "class BasicExmp:\n",
    "    '''with more methods and parameters'''\n",
    "    s = 'python'\n",
    "    def show():\n",
    "        return 'Iam from show function'\n",
    "    def details(name,branch):\n",
    "        return 'Hii My name is ' + name +' Iam from ' + branch\n",
    "Hello = BasicExmp\n",
    "Hello.s\n",
    "Hello.details('Ambika','IT')"
   ]
  },
  {
   "cell_type": "code",
   "execution_count": 16,
   "metadata": {},
   "outputs": [
    {
     "data": {
      "text/plain": [
       "1524960911192"
      ]
     },
     "execution_count": 16,
     "metadata": {},
     "output_type": "execute_result"
    }
   ],
   "source": [
    "id(Hello)"
   ]
  },
  {
   "cell_type": "markdown",
   "metadata": {},
   "source": [
    "- Constructor\n",
    "    - default constructor is __init__\n",
    "    - Used to initialize values\n",
    "    - Two types\n",
    "        - parameterized \n",
    "        - Non parametrized\n",
    "    - syntax\n",
    "         class ClassName:\n",
    "             def __init__(self):\n",
    "                 statements\n",
    "             def __init__(a,b,self):\n",
    "                 statements"
   ]
  },
  {
   "cell_type": "code",
   "execution_count": 17,
   "metadata": {},
   "outputs": [
    {
     "data": {
      "text/plain": [
       "'Iam from show method'"
      ]
     },
     "execution_count": 17,
     "metadata": {},
     "output_type": "execute_result"
    }
   ],
   "source": [
    "# Non Parameterized\n",
    "class NonParm:\n",
    "    def __init__(self):\n",
    "        print('Only Self')\n",
    "    def show():\n",
    "        return 'Iam from show method'\n",
    "np = NonParm\n",
    "np.show()"
   ]
  },
  {
   "cell_type": "code",
   "execution_count": 19,
   "metadata": {},
   "outputs": [
    {
     "data": {
      "text/plain": [
       "-20"
      ]
     },
     "execution_count": 19,
     "metadata": {},
     "output_type": "execute_result"
    }
   ],
   "source": [
    "# parametrized\n",
    "class ParaCon:\n",
    "    def __init__(self,n1,n2):\n",
    "        self.n1 = n1\n",
    "        self.n2 = n2\n",
    "    def add(self):\n",
    "        return self.n1 + self.n2\n",
    "    def sub(self):\n",
    "        return self.n1 - self.n2\n",
    "pc = ParaCon(30,50)\n",
    "pc.add()\n",
    "pc.sub()"
   ]
  },
  {
   "cell_type": "code",
   "execution_count": 22,
   "metadata": {},
   "outputs": [
    {
     "name": "stdout",
     "output_type": "stream",
     "text": [
      "from third\n"
     ]
    },
    {
     "data": {
      "text/plain": [
       "<__main__.MultiCons at 0x16310402400>"
      ]
     },
     "execution_count": 22,
     "metadata": {},
     "output_type": "execute_result"
    }
   ],
   "source": [
    "# Multiple constructor\n",
    "class MultiCons:\n",
    "    def __init__(self):\n",
    "        print('Iam fron first cons')\n",
    "    def __init__(self):\n",
    "        print('Iam from second cons')\n",
    "    def __init__(self):\n",
    "        print('from third')\n",
    "mc = MultiCons()\n",
    "mc"
   ]
  },
  {
   "cell_type": "markdown",
   "metadata": {},
   "source": [
    "- Packages and Modules\n",
    "    - Package\n",
    "        - nothing but folder\n",
    "        - contains modules\n",
    "    - Module\n",
    "        - python file\n",
    "        - contains functions,classes\n",
    "    - Accessing \n",
    "        - by using import \n",
    "        - from package import module\n",
    "        "
   ]
  },
  {
   "cell_type": "code",
   "execution_count": 1,
   "metadata": {},
   "outputs": [
    {
     "data": {
      "text/plain": [
       "['Modu',\n",
       " 'Mymath',\n",
       " '__builtins__',\n",
       " '__cached__',\n",
       " '__doc__',\n",
       " '__file__',\n",
       " '__loader__',\n",
       " '__name__',\n",
       " '__package__',\n",
       " '__spec__']"
      ]
     },
     "execution_count": 1,
     "metadata": {},
     "output_type": "execute_result"
    }
   ],
   "source": [
    "from package import module\n",
    "dir(module)"
   ]
  },
  {
   "cell_type": "code",
   "execution_count": 30,
   "metadata": {},
   "outputs": [
    {
     "data": {
      "text/plain": [
       "20"
      ]
     },
     "execution_count": 30,
     "metadata": {},
     "output_type": "execute_result"
    }
   ],
   "source": [
    "from package.module import Mymath\n",
    "ob = Mymath(10,10)\n",
    "ob.add()"
   ]
  },
  {
   "cell_type": "code",
   "execution_count": 2,
   "metadata": {},
   "outputs": [
    {
     "data": {
      "text/plain": [
       "True"
      ]
     },
     "execution_count": 2,
     "metadata": {},
     "output_type": "execute_result"
    }
   ],
   "source": [
    "from package.module import Modu\n",
    "obj = Modu\n",
    "obj.isEven(6)"
   ]
  },
  {
   "cell_type": "markdown",
   "metadata": {},
   "source": [
    "- Inheritance\n",
    "    - Acuiring characters/properties from parent class[Base class] to child class[derived class]\n",
    "    - types\n",
    "        - single level\n",
    "            - single parent single child\n",
    "        - Multi level\n",
    "            - Multiple parent single child(parent => parent)\n",
    "        - Multiple level\n",
    "            - Multiple parent single child (But no parent to parent relation)\n",
    "        - Hybrid \n",
    "            - combination of above \n",
    "        - Hierrarchial\n",
    "            - "
   ]
  },
  {
   "cell_type": "code",
   "execution_count": 4,
   "metadata": {},
   "outputs": [
    {
     "data": {
      "text/plain": [
       "'From Parent class'"
      ]
     },
     "execution_count": 4,
     "metadata": {},
     "output_type": "execute_result"
    }
   ],
   "source": [
    "# Single level\n",
    "class SingleInh():\n",
    "    a = 10\n",
    "    b = 'python'\n",
    "    def firfun():\n",
    "        return 'From Parent class'\n",
    "class SingleChi(SingleInh):\n",
    "    c = 34.6\n",
    "    d = 'child'\n",
    "    def cfun():\n",
    "        return 'From Child class'\n",
    "obj = SingleChi\n",
    "obj.cfun()\n",
    "obj.firfun()"
   ]
  },
  {
   "cell_type": "code",
   "execution_count": 8,
   "metadata": {},
   "outputs": [
    {
     "name": "stdout",
     "output_type": "stream",
     "text": [
      "From Class C\n",
      "From Class B\n",
      "From class A\n"
     ]
    }
   ],
   "source": [
    "# Multi level\n",
    "class A():\n",
    "    def funA():\n",
    "        return 'From class A'\n",
    "class B(A):\n",
    "    def funB():\n",
    "        return 'From Class B'\n",
    "class C(B):\n",
    "    def funC():\n",
    "        return 'From Class C'\n",
    "obj1 = C\n",
    "print(obj1.funC())\n",
    "print(obj1.funB())\n",
    "print(obj1.funA())"
   ]
  },
  {
   "cell_type": "code",
   "execution_count": 9,
   "metadata": {},
   "outputs": [
    {
     "name": "stdout",
     "output_type": "stream",
     "text": [
      "From Class C\n",
      "From Class B\n",
      "From class A\n"
     ]
    }
   ],
   "source": [
    "# Multiple\n",
    "class A():\n",
    "    def funA():\n",
    "        return 'From class A'\n",
    "class B():\n",
    "    def funB():\n",
    "        return 'From Class B'\n",
    "class C(A,B):\n",
    "    def funC():\n",
    "        return 'From Class C'\n",
    "obj2 = C\n",
    "print(obj2.funC())\n",
    "print(obj2.funB())\n",
    "print(obj2.funA())"
   ]
  },
  {
   "cell_type": "markdown",
   "metadata": {},
   "source": [
    "- pip install django\n",
    "- MVC Architecture\n",
    "    - Model(related database)\n",
    "    - View (HTML,Frontend)\n",
    "    - Controller\n",
    "    - view --> Controller --> Model\n",
    "    - Model --> Controller --> Views\n",
    "- MVT\n",
    "    - Model(database)\n",
    "    - View\n",
    "    - Template(Frontend)\n",
    "    - urls --> views --> Model\n",
    "                     --> Template"
   ]
  },
  {
   "cell_type": "markdown",
   "metadata": {},
   "source": [
    "- django-admin --version\n",
    "- django-admin startproject projectname\n",
    "- cd projectname\n",
    "- python manage.py runserver\n",
    "- python manage.py startapp Appname"
   ]
  }
 ],
 "metadata": {
  "kernelspec": {
   "display_name": "Python 3",
   "language": "python",
   "name": "python3"
  },
  "language_info": {
   "codemirror_mode": {
    "name": "ipython",
    "version": 3
   },
   "file_extension": ".py",
   "mimetype": "text/x-python",
   "name": "python",
   "nbconvert_exporter": "python",
   "pygments_lexer": "ipython3",
   "version": "3.7.0"
  }
 },
 "nbformat": 4,
 "nbformat_minor": 2
}
